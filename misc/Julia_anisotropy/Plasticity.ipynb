{
 "cells": [
  {
   "cell_type": "code",
   "execution_count": 29,
   "metadata": {},
   "outputs": [],
   "source": [
    "from sympy import *\n",
    "tii, Coh, fric, dil, P = symbols('tau_ii, Coh, fric, dil, P')\n",
    "a13, a23, a33, am = symbols('a13, a23, a33, am')\n",
    "txx, tyy, tzz = symbols('txx, tyy, tzz ')\n",
    "eta_ve, K, dt, gdot = symbols('eta_ve, K, dt, gdot')"
   ]
  },
  {
   "cell_type": "code",
   "execution_count": 30,
   "metadata": {},
   "outputs": [],
   "source": [
    "Ft = tii - Coh - P*sin(fric)/3*(a1+a2+a3) +  sin(fric)/3*( a1*txx + a2*tyy + a3*tzz)\n"
   ]
  },
  {
   "cell_type": "code",
   "execution_count": 31,
   "metadata": {},
   "outputs": [
    {
     "data": {
      "text/latex": [
       "$\\displaystyle \\frac{\\tau_{ii} \\left(- Coh - P am \\sin{\\left(fric \\right)} + a_{13} txx \\sin{\\left(fric \\right)} + \\tau_{ii}\\right)}{K am dt \\tau_{ii} \\sin{\\left(dil \\right)} \\sin{\\left(fric \\right)} + a_{13} \\eta_{ve} txx \\sin{\\left(fric \\right)} + \\eta_{ve} \\tau_{ii}}$"
      ],
      "text/plain": [
       "tau_ii*(-Coh - P*am*sin(fric) + a13*txx*sin(fric) + tau_ii)/(K*am*dt*tau_ii*sin(dil)*sin(fric) + a13*eta_ve*txx*sin(fric) + eta_ve*tau_ii)"
      ]
     },
     "execution_count": 31,
     "metadata": {},
     "output_type": "execute_result"
    }
   ],
   "source": [
    "tiic = tii - gdot*eta_ve\n",
    "Pc   = P + gdot*K*dt*sin(dil)\n",
    "txxc = txx * (1 - eta_ve*gdot/tii)\n",
    "tyyc = tyy * (1 - eta_ve*gdot/tii)\n",
    "tzzc = tzz * (1 - eta_ve*gdot/tii)\n",
    "\n",
    "Fc = tiic - Coh - Pc*sin(fric)*am +  sin(fric)*(a13*txxc + 0*a23*tyy + 0*a33*tzz)\n",
    "\n",
    "solve(Fc, gdot)[0]"
   ]
  },
  {
   "cell_type": "code",
   "execution_count": null,
   "metadata": {},
   "outputs": [],
   "source": []
  },
  {
   "cell_type": "code",
   "execution_count": null,
   "metadata": {},
   "outputs": [],
   "source": []
  }
 ],
 "metadata": {
  "kernelspec": {
   "display_name": "Python 3",
   "language": "python",
   "name": "python3"
  },
  "language_info": {
   "codemirror_mode": {
    "name": "ipython",
    "version": 3
   },
   "file_extension": ".py",
   "mimetype": "text/x-python",
   "name": "python",
   "nbconvert_exporter": "python",
   "pygments_lexer": "ipython3",
   "version": "3.9.6"
  },
  "orig_nbformat": 4,
  "vscode": {
   "interpreter": {
    "hash": "31f2aee4e71d21fbe5cf8b01ff0e069b9275f58929596ceb00d14d90e3e16cd6"
   }
  }
 },
 "nbformat": 4,
 "nbformat_minor": 2
}
